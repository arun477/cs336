{
 "cells": [
  {
   "cell_type": "code",
   "execution_count": null,
   "id": "84fab50d-3923-4f40-acb8-aade9230d4ec",
   "metadata": {},
   "outputs": [],
   "source": []
  }
 ],
 "metadata": {
  "kernelspec": {
   "display_name": "m",
   "language": "python",
   "name": "m"
  }
 },
 "nbformat": 4,
 "nbformat_minor": 5
}
