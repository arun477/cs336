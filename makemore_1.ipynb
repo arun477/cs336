{
 "cells": [
  {
   "cell_type": "code",
   "execution_count": null,
   "id": "b633bc3d-27a9-4ce3-be90-8292f7e5d6c3",
   "metadata": {},
   "outputs": [],
   "source": []
  }
 ],
 "metadata": {
  "kernelspec": {
   "display_name": "m",
   "language": "python",
   "name": "m"
  }
 },
 "nbformat": 4,
 "nbformat_minor": 5
}
